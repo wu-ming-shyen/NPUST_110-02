{
 "cells": [
  {
   "cell_type": "code",
   "execution_count": 1,
   "metadata": {
    "id": "TmrLYv59RB-h"
   },
   "outputs": [],
   "source": [
    "import numpy as np\n",
    "from tensorflow.keras.datasets import mnist\n",
    "from tensorflow.keras.models import Sequential\n",
    "from tensorflow.keras.layers import *\n",
    "from tensorflow.keras.utils import to_categorical"
   ]
  },
  {
   "cell_type": "code",
   "execution_count": 2,
   "metadata": {
    "id": "qjvtdhR9RwxR"
   },
   "outputs": [],
   "source": [
    "# 載入資料集\n",
    "(X_train, Y_train), (X_test, Y_test) = mnist.load_data()"
   ]
  },
  {
   "cell_type": "code",
   "execution_count": 3,
   "metadata": {
    "id": "YtP31JcERyih"
   },
   "outputs": [],
   "source": [
    "# # 將 28*28 圖片轉換成 784 的向量(MLP)\n",
    "# X_train = X_train.reshape(X_train.shape[0], 28*28).astype(\"float32\")\n",
    "# X_test = X_test.reshape(X_test.shape[0], 28*28).astype(\"float32\")\n",
    "# print(\"X_train Shape: \", X_train.shape)\n",
    "# print(\"X_test Shape: \", X_test.shape)"
   ]
  },
  {
   "cell_type": "code",
   "execution_count": 4,
   "metadata": {
    "id": "azn18g2Bhdne"
   },
   "outputs": [
    {
     "name": "stdout",
     "output_type": "stream",
     "text": [
      "X_train Shape:  (60000, 28, 28, 1)\n",
      "X_test Shape:  (10000, 28, 28, 1)\n"
     ]
    }
   ],
   "source": [
    "# 將圖片轉換成 4D 張量(CNN)\n",
    "X_train = X_train.reshape(X_train.shape[0], 28, 28, 1).astype(\"float32\")\n",
    "X_test = X_test.reshape(X_test.shape[0], 28, 28, 1).astype(\"float32\")\n",
    "print(\"X_train Shape: \", X_train.shape)\n",
    "print(\"X_test Shape: \", X_test.shape)"
   ]
  },
  {
   "cell_type": "code",
   "execution_count": 5,
   "metadata": {
    "id": "tR-Nl_aNR1FY"
   },
   "outputs": [
    {
     "name": "stdout",
     "output_type": "stream",
     "text": [
      "[]\n"
     ]
    }
   ],
   "source": [
    "# 因為是固定範圍, 所以執行正規化, 從 0-255 至 0-1\n",
    "X_train = X_train / 255\n",
    "X_test = X_test / 255\n",
    "print(X_train[0][150:175])"
   ]
  },
  {
   "cell_type": "code",
   "execution_count": 6,
   "metadata": {
    "id": "ZcPPLiG5R3eX"
   },
   "outputs": [
    {
     "name": "stdout",
     "output_type": "stream",
     "text": [
      "Y_train Shape:  (60000, 10)\n",
      "[0. 0. 0. 0. 0. 1. 0. 0. 0. 0.]\n"
     ]
    }
   ],
   "source": [
    "# One-hot編碼\n",
    "Y_test_bk = Y_test.copy()\n",
    "Y_train = to_categorical(Y_train)\n",
    "Y_test = to_categorical(Y_test)\n",
    "print(\"Y_train Shape: \", Y_train.shape)\n",
    "print(Y_train[0])"
   ]
  },
  {
   "cell_type": "code",
   "execution_count": 7,
   "metadata": {
    "id": "pqgD9HF0R3do"
   },
   "outputs": [],
   "source": [
    "# # 定義模型(MLP)\n",
    "# model = Sequential()\n",
    "# model.add(Dense(28*21, input_dim=28*28, activation=\"relu\"))\n",
    "# model.add(Dropout(0.5))\n",
    "# model.add(Dense(28*14, activation=\"relu\"))\n",
    "# model.add(Dense(10, activation=\"softmax\"))\n",
    "# model.summary()   # 顯示模型摘要資訊"
   ]
  },
  {
   "cell_type": "code",
   "execution_count": 8,
   "metadata": {
    "id": "CQVwOuqXr2dA"
   },
   "outputs": [
    {
     "name": "stdout",
     "output_type": "stream",
     "text": [
      "Model: \"sequential\"\n",
      "_________________________________________________________________\n",
      "Layer (type)                 Output Shape              Param #   \n",
      "=================================================================\n",
      "conv2d (Conv2D)              (None, 28, 28, 16)        416       \n",
      "_________________________________________________________________\n",
      "max_pooling2d (MaxPooling2D) (None, 14, 14, 16)        0         \n",
      "_________________________________________________________________\n",
      "conv2d_1 (Conv2D)            (None, 14, 14, 32)        12832     \n",
      "_________________________________________________________________\n",
      "max_pooling2d_1 (MaxPooling2 (None, 7, 7, 32)          0         \n",
      "_________________________________________________________________\n",
      "dropout (Dropout)            (None, 7, 7, 32)          0         \n",
      "_________________________________________________________________\n",
      "flatten (Flatten)            (None, 1568)              0         \n",
      "_________________________________________________________________\n",
      "dense (Dense)                (None, 128)               200832    \n",
      "_________________________________________________________________\n",
      "dropout_1 (Dropout)          (None, 128)               0         \n",
      "_________________________________________________________________\n",
      "dense_1 (Dense)              (None, 10)                1290      \n",
      "=================================================================\n",
      "Total params: 215,370\n",
      "Trainable params: 215,370\n",
      "Non-trainable params: 0\n",
      "_________________________________________________________________\n"
     ]
    }
   ],
   "source": [
    "# 定義模型(CNN)\n",
    "model = Sequential()\n",
    "model.add(Conv2D(16, kernel_size=(5, 5), padding=\"same\",\n",
    "                 input_shape=(28, 28, 1), activation=\"relu\"))\n",
    "model.add(MaxPooling2D(pool_size=(2, 2)))\n",
    "model.add(Conv2D(32, kernel_size=(5, 5), padding=\"same\",\n",
    "                 activation=\"relu\"))\n",
    "model.add(MaxPooling2D(pool_size=(2, 2)))\n",
    "model.add(Dropout(0.5))\n",
    "model.add(Flatten())\n",
    "model.add(Dense(128, activation=\"relu\"))\n",
    "model.add(Dropout(0.5))\n",
    "model.add(Dense(10, activation=\"softmax\"))\n",
    "model.summary()   # 顯示模型摘要資訊"
   ]
  },
  {
   "cell_type": "code",
   "execution_count": 9,
   "metadata": {
    "id": "LxKK_SgrSIdw"
   },
   "outputs": [],
   "source": [
    "# 編譯模型\n",
    "model.compile(loss=\"categorical_crossentropy\", optimizer=\"adam\", metrics=[\"accuracy\"])"
   ]
  },
  {
   "cell_type": "code",
   "execution_count": 10,
   "metadata": {
    "id": "oVQDOYOBSKIo"
   },
   "outputs": [
    {
     "name": "stdout",
     "output_type": "stream",
     "text": [
      "Epoch 1/20\n",
      "375/375 [==============================] - 3s 2ms/step - loss: 0.4034 - accuracy: 0.8704 - val_loss: 0.0863 - val_accuracy: 0.9752\n",
      "Epoch 2/20\n",
      "375/375 [==============================] - 1s 2ms/step - loss: 0.1330 - accuracy: 0.9598 - val_loss: 0.0635 - val_accuracy: 0.9802\n",
      "Epoch 3/20\n",
      "375/375 [==============================] - 1s 2ms/step - loss: 0.1004 - accuracy: 0.9692 - val_loss: 0.0519 - val_accuracy: 0.9837\n",
      "Epoch 4/20\n",
      "375/375 [==============================] - 1s 2ms/step - loss: 0.0840 - accuracy: 0.9748 - val_loss: 0.0447 - val_accuracy: 0.9868\n",
      "Epoch 5/20\n",
      "375/375 [==============================] - 1s 2ms/step - loss: 0.0760 - accuracy: 0.9765 - val_loss: 0.0409 - val_accuracy: 0.9886\n",
      "Epoch 6/20\n",
      "375/375 [==============================] - 1s 2ms/step - loss: 0.0680 - accuracy: 0.9792 - val_loss: 0.0380 - val_accuracy: 0.9883\n",
      "Epoch 7/20\n",
      "375/375 [==============================] - 1s 2ms/step - loss: 0.0603 - accuracy: 0.9819 - val_loss: 0.0339 - val_accuracy: 0.9909\n",
      "Epoch 8/20\n",
      "375/375 [==============================] - 1s 2ms/step - loss: 0.0605 - accuracy: 0.9815 - val_loss: 0.0321 - val_accuracy: 0.9908\n",
      "Epoch 9/20\n",
      "375/375 [==============================] - 1s 2ms/step - loss: 0.0545 - accuracy: 0.9833 - val_loss: 0.0363 - val_accuracy: 0.9899\n",
      "Epoch 10/20\n",
      "375/375 [==============================] - 1s 2ms/step - loss: 0.0506 - accuracy: 0.9841 - val_loss: 0.0302 - val_accuracy: 0.9921\n",
      "Epoch 11/20\n",
      "375/375 [==============================] - 1s 2ms/step - loss: 0.0480 - accuracy: 0.9847 - val_loss: 0.0302 - val_accuracy: 0.9916\n",
      "Epoch 12/20\n",
      "375/375 [==============================] - 1s 2ms/step - loss: 0.0475 - accuracy: 0.9850 - val_loss: 0.0336 - val_accuracy: 0.9909\n",
      "Epoch 13/20\n",
      "375/375 [==============================] - 1s 2ms/step - loss: 0.0430 - accuracy: 0.9868 - val_loss: 0.0320 - val_accuracy: 0.9909\n",
      "Epoch 14/20\n",
      "375/375 [==============================] - 1s 2ms/step - loss: 0.0405 - accuracy: 0.9872 - val_loss: 0.0301 - val_accuracy: 0.9919\n",
      "Epoch 15/20\n",
      "375/375 [==============================] - 1s 2ms/step - loss: 0.0407 - accuracy: 0.9874 - val_loss: 0.0294 - val_accuracy: 0.9917\n",
      "Epoch 16/20\n",
      "375/375 [==============================] - 1s 2ms/step - loss: 0.0367 - accuracy: 0.9883 - val_loss: 0.0306 - val_accuracy: 0.9923\n",
      "Epoch 17/20\n",
      "375/375 [==============================] - 1s 2ms/step - loss: 0.0343 - accuracy: 0.9888 - val_loss: 0.0313 - val_accuracy: 0.9922\n",
      "Epoch 18/20\n",
      "375/375 [==============================] - 1s 2ms/step - loss: 0.0367 - accuracy: 0.9884 - val_loss: 0.0275 - val_accuracy: 0.9923\n",
      "Epoch 19/20\n",
      "375/375 [==============================] - 1s 2ms/step - loss: 0.0367 - accuracy: 0.9883 - val_loss: 0.0310 - val_accuracy: 0.9917\n",
      "Epoch 20/20\n",
      "375/375 [==============================] - 1s 2ms/step - loss: 0.0307 - accuracy: 0.9903 - val_loss: 0.0297 - val_accuracy: 0.9927\n"
     ]
    }
   ],
   "source": [
    "# 訓練模型\n",
    "history = model.fit(X_train, Y_train, validation_split=0.2,epochs=20, batch_size=128, shuffle=True)"
   ]
  },
  {
   "cell_type": "code",
   "execution_count": 11,
   "metadata": {
    "id": "SpfXpMJzSOlo"
   },
   "outputs": [
    {
     "name": "stdout",
     "output_type": "stream",
     "text": [
      "\n",
      "Testing ...\n",
      "1875/1875 [==============================] - 2s 1ms/step - loss: 0.0111 - accuracy: 0.9970: 0s - loss: 0.0100 - accuracy: 0.\n",
      "訓練資料集的準確度 = 1.00\n",
      "313/313 [==============================] - 0s 1ms/step - loss: 0.0172 - accuracy: 0.9950\n",
      "測試資料集的準確度 = 1.00\n"
     ]
    }
   ],
   "source": [
    "# 評估模型\n",
    "print(\"\\nTesting ...\")\n",
    "loss, accuracy = model.evaluate(X_train, Y_train)\n",
    "print(\"訓練資料集的準確度 = {:.2f}\".format(accuracy))\n",
    "loss, accuracy = model.evaluate(X_test, Y_test)\n",
    "print(\"測試資料集的準確度 = {:.2f}\".format(accuracy))"
   ]
  },
  {
   "cell_type": "code",
   "execution_count": 12,
   "metadata": {
    "id": "o3ZttIKIUa7F"
   },
   "outputs": [],
   "source": [
    "# 顯示圖表來分析模型的訓練過程\n",
    "import matplotlib.pyplot as plt"
   ]
  },
  {
   "cell_type": "code",
   "execution_count": 13,
   "metadata": {
    "id": "UZBlRKsQUiYY"
   },
   "outputs": [
    {
     "data": {
      "image/png": "[encoded data removed]",
      "text/plain": [
       "<Figure size 432x288 with 1 Axes>"
      ]
     },
     "metadata": {
      "needs_background": "light"
     },
     "output_type": "display_data"
    }
   ],
   "source": [
    "# 顯示訓練和驗證損失\n",
    "loss = history.history[\"loss\"]\n",
    "epochs = range(1, len(loss)+1)\n",
    "val_loss = history.history[\"val_loss\"]\n",
    "plt.plot(epochs, loss, \"bo-\", label=\"Training Loss\")\n",
    "plt.plot(epochs, val_loss, \"ro--\", label=\"Validation Loss\")\n",
    "plt.title(\"Training and Validation Loss\")\n",
    "plt.xlabel(\"Epochs\")\n",
    "plt.ylabel(\"Loss\")\n",
    "plt.legend()\n",
    "plt.show()"
   ]
  },
  {
   "cell_type": "code",
   "execution_count": 14,
   "metadata": {
    "id": "dMSfLf0_UkMg"
   },
   "outputs": [
    {
     "data": {
      "image/png": "[encoded data removed]",
      "text/plain": [
       "<Figure size 432x288 with 1 Axes>"
      ]
     },
     "metadata": {
      "needs_background": "light"
     },
     "output_type": "display_data"
    }
   ],
   "source": [
    "# 顯示訓練和驗證準確度\n",
    "acc = history.history[\"accuracy\"]\n",
    "epochs = range(1, len(acc)+1)\n",
    "val_acc = history.history[\"val_accuracy\"]\n",
    "plt.plot(epochs, acc, \"bo-\", label=\"Training Acc\")\n",
    "plt.plot(epochs, val_acc, \"ro--\", label=\"Validation Acc\")\n",
    "plt.title(\"Training and Validation Accuracy\")\n",
    "plt.xlabel(\"Epochs\")\n",
    "plt.ylabel(\"Accuracy\")\n",
    "plt.legend()\n",
    "plt.show()"
   ]
  },
  {
   "cell_type": "code",
   "execution_count": 15,
   "metadata": {
    "id": "ooSOyjRVo6cs"
   },
   "outputs": [],
   "source": [
    "import pandas as pd"
   ]
  },
  {
   "cell_type": "code",
   "execution_count": 16,
   "metadata": {
    "id": "_ZPS2WuFoqj-"
   },
   "outputs": [
    {
     "name": "stdout",
     "output_type": "stream",
     "text": [
      "\n",
      "Predicting ...\n"
     ]
    }
   ],
   "source": [
    "# 計算分類的預測值\n",
    "print(\"\\nPredicting ...\")\n",
    "X_pred=model.predict(X_test) \n",
    "Y_pred=np.argmax(X_pred,axis=1)\n",
    "# Y_pred = model.predict_classes(X_test)"
   ]
  },
  {
   "cell_type": "code",
   "execution_count": 17,
   "metadata": {
    "id": "py5XNzy8o0az",
    "scrolled": true
   },
   "outputs": [
    {
     "name": "stdout",
     "output_type": "stream",
     "text": [
      "predict    0     1     2     3    4    5    6     7    8     9\n",
      "label                                                         \n",
      "0        976     0     0     0    0    0    2     1    1     0\n",
      "1          0  1133     1     0    0    1    0     0    0     0\n",
      "2          1     0  1025     0    1    0    0     3    2     0\n",
      "3          0     0     1  1006    0    1    0     0    1     1\n",
      "4          0     0     0     0  979    0    0     0    0     3\n",
      "5          1     0     0     3    0  885    1     0    0     2\n",
      "6          4     2     0     0    1    1  950     0    0     0\n",
      "7          0     3     1     0    0    0    0  1022    0     2\n",
      "8          1     0     1     0    0    0    0     0  971     1\n",
      "9          0     0     0     0    5    1    0     0    0  1003\n"
     ]
    }
   ],
   "source": [
    "# 顯示混淆矩陣\n",
    "tb = pd.crosstab(Y_test_bk.astype(int), Y_pred.astype(int), rownames=[\"label\"], colnames=[\"predict\"])\n",
    "print(tb)"
   ]
  },
  {
   "cell_type": "code",
   "execution_count": 18,
   "metadata": {},
   "outputs": [],
   "source": [
    "# 選一個測試的數字圖片\n",
    "i = np.random.randint(0, len(X_test))\n",
    "digit = X_test[i].reshape(28, 28)"
   ]
  },
  {
   "cell_type": "code",
   "execution_count": 19,
   "metadata": {},
   "outputs": [],
   "source": [
    "# 將圖片轉換成 4D 張量\n",
    "X_test_digit = X_test[i].reshape(1, 28, 28, 1).astype(\"float32\")\n",
    "# 因為是固定範圍, 所以執行正規化, 從 0-255 至 0-1\n",
    "X_test_digit = X_test_digit / 255"
   ]
  },
  {
   "cell_type": "code",
   "execution_count": 20,
   "metadata": {},
   "outputs": [
    {
     "data": {
      "text/plain": [
       "(-0.5, 27.5, 27.5, -0.5)"
      ]
     },
     "execution_count": 20,
     "metadata": {},
     "output_type": "execute_result"
    },
    {
     "data": {
      "image/png": "[encoded data removed]",
      "text/plain": [
       "<Figure size 432x288 with 1 Axes>"
      ]
     },
     "metadata": {
      "needs_background": "light"
     },
     "output_type": "display_data"
    }
   ],
   "source": [
    "# 繪出圖表的預測結果\n",
    "plt.figure()\n",
    "plt.subplot(1,2,1)\n",
    "plt.title(\"Example of Digit:\" + str(Y_test_bk[i]))\n",
    "plt.imshow(digit, cmap=\"gray\")\n",
    "plt.axis(\"off\")"
   ]
  },
  {
   "cell_type": "code",
   "execution_count": 21,
   "metadata": {},
   "outputs": [
    {
     "name": "stdout",
     "output_type": "stream",
     "text": [
      "Predicting ...\n"
     ]
    },
    {
     "data": {
      "image/png": "[encoded data removed]",
      "text/plain": [
       "<Figure size 432x288 with 1 Axes>"
      ]
     },
     "metadata": {
      "needs_background": "light"
     },
     "output_type": "display_data"
    }
   ],
   "source": [
    "# 預測結果的機率\n",
    "from sklearn import preprocessing\n",
    "print(\"Predicting ...\")\n",
    "probs=model.predict(X_test_digit)\n",
    "plt.subplot(1,2,2)\n",
    "plt.title(\"Probabilities for Each Digit Class\")\n",
    "plt.bar(np.arange(10), probs.reshape(10), align=\"center\")\n",
    "plt.xticks(np.arange(10),np.arange(10).astype(str))\n",
    "plt.show()"
   ]
  },
  {
   "cell_type": "code",
   "execution_count": null,
   "metadata": {},
   "outputs": [],
   "source": []
  }
 ],
 "metadata": {
  "accelerator": "GPU",
  "colab": {
   "collapsed_sections": [],
   "name": "MINST_MLP.ipynb",
   "provenance": []
  },
  "kernelspec": {
   "display_name": "Python 3 (ipykernel)",
   "language": "python",
   "name": "python3"
  },
  "language_info": {
   "codemirror_mode": {
    "name": "ipython",
    "version": 3
   },
   "file_extension": ".py",
   "mimetype": "text/x-python",
   "name": "python",
   "nbconvert_exporter": "python",
   "pygments_lexer": "ipython3",
   "version": "3.9.12"
  }
 },
 "nbformat": 4,
 "nbformat_minor": 1
}
