{
 "cells": [
  {
   "cell_type": "code",
   "execution_count": 1,
   "id": "2b7a4961",
   "metadata": {},
   "outputs": [],
   "source": [
    "import numpy as np\n",
    "import pandas as pd\n",
    "from tensorflow.keras.models import Sequential\n",
    "from tensorflow.keras.layers import Dense\n",
    "from tensorflow.keras.utils import to_categorical"
   ]
  },
  {
   "cell_type": "code",
   "execution_count": 2,
   "id": "ca6fa273",
   "metadata": {},
   "outputs": [],
   "source": [
    "np.random.seed(10)  # 指定亂數種子"
   ]
  },
  {
   "cell_type": "code",
   "execution_count": 3,
   "id": "349616a5",
   "metadata": {},
   "outputs": [],
   "source": [
    "df = pd.read_csv(\"./titanic.csv\")\n",
    "df=df.drop('PassengerId', axis=1)"
   ]
  },
  {
   "cell_type": "code",
   "execution_count": 4,
   "id": "d68c9220",
   "metadata": {},
   "outputs": [],
   "source": [
    "df['Age']=df['Age'].fillna(df['Age'].mean())"
   ]
  },
  {
   "cell_type": "code",
   "execution_count": 5,
   "id": "fca4eca6",
   "metadata": {},
   "outputs": [],
   "source": [
    "df['Embarked']=df['Embarked'].fillna('S')"
   ]
  },
  {
   "cell_type": "code",
   "execution_count": 6,
   "id": "6c2a1908",
   "metadata": {},
   "outputs": [],
   "source": [
    "label = df.loc[:,['Survived']]"
   ]
  },
  {
   "cell_type": "code",
   "execution_count": 7,
   "id": "23c5f7c2",
   "metadata": {
    "scrolled": true
   },
   "outputs": [],
   "source": [
    "df=df.drop('Name', axis=1)\n",
    "df=df.drop('Cabin', axis=1)\n",
    "df=df.drop('Ticket', axis=1)\n",
    "df=df.drop('Survived', axis=1)"
   ]
  },
  {
   "cell_type": "code",
   "execution_count": 8,
   "id": "177ad867",
   "metadata": {},
   "outputs": [],
   "source": [
    "s = {'female':0, 'male':1}\n",
    "df['Sex'] = df['Sex'].map(s)\n",
    "e = {'C':0, 'Q':1, 'S':2}\n",
    "df['Embarked'] = df['Embarked'].map(e)"
   ]
  },
  {
   "cell_type": "code",
   "execution_count": 9,
   "id": "a63462a9",
   "metadata": {},
   "outputs": [],
   "source": [
    "X = df.values\n",
    "np.random.shuffle(X)\n",
    "Y = label.values\n",
    "np.random.shuffle(Y)"
   ]
  },
  {
   "cell_type": "code",
   "execution_count": 10,
   "id": "ec112fa6",
   "metadata": {},
   "outputs": [],
   "source": [
    "X -= X.mean(axis=0)\n",
    "X /= X.std(axis=0)"
   ]
  },
  {
   "cell_type": "code",
   "execution_count": 11,
   "id": "7bcc098e",
   "metadata": {},
   "outputs": [],
   "source": [
    "# One-hot編碼\n",
    "Y = to_categorical(Y)\n",
    "# 分割訓練和測試資料集\n",
    "X_train, Y_train = X[:712], Y[:712]     # 訓練資料前690筆\n",
    "X_test, Y_test = X[712:], Y[712:]       # 測試資料後78筆"
   ]
  },
  {
   "cell_type": "code",
   "execution_count": 12,
   "id": "4cbf3d49",
   "metadata": {},
   "outputs": [],
   "source": [
    "# 定義模型\n",
    "model = Sequential()\n",
    "model.add(Dense(8, input_shape=(7,), activation=\"relu\"))\n",
    "model.add(Dense(10, activation=\"relu\"))\n",
    "model.add(Dense(10, activation=\"relu\"))\n",
    "model.add(Dense(10, activation=\"relu\"))\n",
    "model.add(Dense(10, activation=\"relu\"))\n",
    "model.add(Dense(10, activation=\"relu\"))\n",
    "model.add(Dense(10, activation=\"relu\"))\n",
    "model.add(Dense(10, activation=\"relu\"))\n",
    "model.add(Dense(2, activation=\"softmax\"))"
   ]
  },
  {
   "cell_type": "code",
   "execution_count": 13,
   "id": "bfc88de7",
   "metadata": {},
   "outputs": [],
   "source": [
    "# 編譯模型\n",
    "model.compile(loss=\"binary_crossentropy\", optimizer=\"adam\", \n",
    "              metrics=[\"accuracy\"])"
   ]
  },
  {
   "cell_type": "code",
   "execution_count": null,
   "id": "1a788560",
   "metadata": {},
   "outputs": [],
   "source": [
    "# 訓練模型\n",
    "history = model.fit(X_train, Y_train, validation_split=0.2, epochs=300, batch_size=10, verbose = 0)"
   ]
  },
  {
   "cell_type": "code",
   "execution_count": null,
   "id": "c1fef08c",
   "metadata": {},
   "outputs": [],
   "source": [
    "# 評估模型\n",
    "loss, accuracy = model.evaluate(X_train, Y_train)\n",
    "print(\"訓練資料集的準確度 = {:.2f}\".format(accuracy))\n",
    "loss, accuracy = model.evaluate(X_test, Y_test)\n",
    "print(\"測試資料集的準確度 = {:.2f}\".format(accuracy))"
   ]
  },
  {
   "cell_type": "code",
   "execution_count": null,
   "id": "64f0d03a",
   "metadata": {},
   "outputs": [],
   "source": [
    "# 顯示訓練和驗證損失圖表\n",
    "import matplotlib.pyplot as plt\n",
    "\n",
    "loss = history.history[\"loss\"]\n",
    "epochs = range(1, len(loss)+1)\n",
    "val_loss = history.history[\"val_loss\"]\n",
    "plt.plot(epochs, loss, \"bo\", label=\"Training Loss\")\n",
    "plt.plot(epochs, val_loss, \"r\", label=\"Validation Loss\")\n",
    "plt.title(\"Training and Validation Loss\")\n",
    "plt.xlabel(\"Epochs\")\n",
    "plt.ylabel(\"Loss\")\n",
    "plt.legend()\n",
    "plt.show()"
   ]
  },
  {
   "cell_type": "code",
   "execution_count": null,
   "id": "668f801a",
   "metadata": {},
   "outputs": [],
   "source": [
    "# 顯示訓練和驗證準確度\n",
    "acc = history.history[\"accuracy\"]\n",
    "epochs = range(1, len(acc)+1)\n",
    "val_acc = history.history[\"val_accuracy\"]\n",
    "plt.plot(epochs, acc, \"b-\", label=\"Training Acc\")\n",
    "plt.plot(epochs, val_acc, \"r--\", label=\"Validation Acc\")\n",
    "plt.title(\"Training and Validation Accuracy\")\n",
    "plt.xlabel(\"Epochs\")\n",
    "plt.ylabel(\"Accuracy\")\n",
    "plt.legend()\n",
    "plt.show()"
   ]
  },
  {
   "cell_type": "code",
   "execution_count": null,
   "id": "4c87158f",
   "metadata": {},
   "outputs": [],
   "source": []
  }
 ],
 "metadata": {
  "kernelspec": {
   "display_name": "Python 3 (ipykernel)",
   "language": "python",
   "name": "python3"
  },
  "language_info": {
   "codemirror_mode": {
    "name": "ipython",
    "version": 3
   },
   "file_extension": ".py",
   "mimetype": "text/x-python",
   "name": "python",
   "nbconvert_exporter": "python",
   "pygments_lexer": "ipython3",
   "version": "3.9.7"
  }
 },
 "nbformat": 4,
 "nbformat_minor": 5
}
