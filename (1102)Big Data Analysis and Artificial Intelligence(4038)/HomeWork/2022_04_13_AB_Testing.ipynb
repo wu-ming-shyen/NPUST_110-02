{
  "nbformat": 4,
  "nbformat_minor": 0,
  "metadata": {
    "colab": {
      "name": "2022-04-13_AB_Testing",
      "provenance": [],
      "collapsed_sections": []
    },
    "kernelspec": {
      "name": "python3",
      "display_name": "Python 3"
    },
    "language_info": {
      "name": "python"
    },
    "accelerator": "GPU"
  },
  "cells": [
    {
      "cell_type": "code",
      "execution_count": 1,
      "metadata": {
        "id": "h8boaPKvnI7S"
      },
      "outputs": [],
      "source": [
        "import numpy as np\n",
        "from tensorflow.keras.datasets import cifar10\n",
        "from tensorflow.keras.models import Sequential\n",
        "from tensorflow.keras.layers import Dense\n",
        "from tensorflow.keras.layers import Flatten\n",
        "from tensorflow.keras.layers import Conv2D\n",
        "from tensorflow.keras.layers import MaxPooling2D\n",
        "from tensorflow.keras.layers import Dropout\n",
        "from tensorflow.keras.utils import to_categorical"
      ]
    },
    {
      "cell_type": "code",
      "source": [
        "# 載入資料集\n",
        "(X_train, Y_train), (X_test, Y_test) = cifar10.load_data()\n",
        "# 因為是固定範圍, 所以執行正規化, 從 0-255 至 0-1\n",
        "X_train = X_train.astype(\"float32\") / 255\n",
        "X_test = X_test.astype(\"float32\") / 255\n",
        "# One-hot編碼\n",
        "Y_train = to_categorical(Y_train)\n",
        "Y_test = to_categorical(Y_test)"
      ],
      "metadata": {
        "id": "KtkVmsesnOTq"
      },
      "execution_count": 2,
      "outputs": []
    },
    {
      "cell_type": "code",
      "source": [
        "# 定義模型\n",
        "model = Sequential()\n",
        "model.add(Conv2D(32, kernel_size=(3, 3), padding=\"same\",input_shape=X_train.shape[1:], activation=\"relu\"))\n",
        "model.add(MaxPooling2D(pool_size=(2, 2)))\n",
        "model.add(Dropout(0.3))\n",
        "model.add(Conv2D(64, kernel_size=(3, 3), padding=\"same\",activation=\"relu\"))\n",
        "model.add(MaxPooling2D(pool_size=(2, 2)))\n",
        "model.add(Conv2D(32, kernel_size=(3, 3), padding=\"same\",activation=\"relu\"))\n",
        "model.add(MaxPooling2D(pool_size=(2, 2)))\n",
        "model.add(Dropout(0.3))\n",
        "model.add(Flatten())\n",
        "model.add(Dense(1024, activation=\"relu\"))\n",
        "model.add(Dropout(0.5))\n",
        "model.add(Dense(1024, activation=\"relu\"))\n",
        "model.add(Dropout(0.5))\n",
        "model.add(Dense(10, activation=\"softmax\"))\n",
        "model.summary()   # 顯示模型摘要資訊\n"
      ],
      "metadata": {
        "colab": {
          "base_uri": "https://localhost:8080/"
        },
        "id": "GTBl86VfnbHQ",
        "outputId": "1fdb8edb-4308-42fe-e94a-8a991a9d5c18"
      },
      "execution_count": 3,
      "outputs": [
        {
          "output_type": "stream",
          "name": "stdout",
          "text": [
            "Model: \"sequential\"\n",
            "_________________________________________________________________\n",
            " Layer (type)                Output Shape              Param #   \n",
            "=================================================================\n",
            " conv2d (Conv2D)             (None, 32, 32, 32)        896       \n",
            "                                                                 \n",
            " max_pooling2d (MaxPooling2D  (None, 16, 16, 32)       0         \n",
            " )                                                               \n",
            "                                                                 \n",
            " dropout (Dropout)           (None, 16, 16, 32)        0         \n",
            "                                                                 \n",
            " conv2d_1 (Conv2D)           (None, 16, 16, 64)        18496     \n",
            "                                                                 \n",
            " max_pooling2d_1 (MaxPooling  (None, 8, 8, 64)         0         \n",
            " 2D)                                                             \n",
            "                                                                 \n",
            " dropout_1 (Dropout)         (None, 8, 8, 64)          0         \n",
            "                                                                 \n",
            " conv2d_2 (Conv2D)           (None, 8, 8, 64)          36928     \n",
            "                                                                 \n",
            " max_pooling2d_2 (MaxPooling  (None, 4, 4, 64)         0         \n",
            " 2D)                                                             \n",
            "                                                                 \n",
            " dropout_2 (Dropout)         (None, 4, 4, 64)          0         \n",
            "                                                                 \n",
            " flatten (Flatten)           (None, 1024)              0         \n",
            "                                                                 \n",
            " dense (Dense)               (None, 1024)              1049600   \n",
            "                                                                 \n",
            " dropout_3 (Dropout)         (None, 1024)              0         \n",
            "                                                                 \n",
            " dense_1 (Dense)             (None, 1024)              1049600   \n",
            "                                                                 \n",
            " dropout_4 (Dropout)         (None, 1024)              0         \n",
            "                                                                 \n",
            " dense_2 (Dense)             (None, 10)                10250     \n",
            "                                                                 \n",
            "=================================================================\n",
            "Total params: 2,165,770\n",
            "Trainable params: 2,165,770\n",
            "Non-trainable params: 0\n",
            "_________________________________________________________________\n"
          ]
        }
      ]
    },
    {
      "cell_type": "code",
      "source": [
        "# 編譯模型\n",
        "model.compile(loss=\"categorical_crossentropy\", optimizer=\"adam\",metrics=[\"accuracy\"])\n",
        "# 訓練模型\n",
        "history = model.fit(X_train, Y_train, validation_split=0.2,epochs=10000, batch_size=128, verbose=1, shuffle=True)\n"
      ],
      "metadata": {
        "colab": {
          "base_uri": "https://localhost:8080/"
        },
        "id": "k_vdIsHFneMg",
        "outputId": "4395b99d-5448-4629-9a96-2378954871b7"
      },
      "execution_count": null,
      "outputs": [
        {
          "output_type": "stream",
          "name": "stdout",
          "text": [
            "Epoch 1/100\n",
            "313/313 [==============================] - 8s 21ms/step - loss: 1.7847 - accuracy: 0.3334 - val_loss: 1.4626 - val_accuracy: 0.4647\n",
            "Epoch 2/100\n",
            "313/313 [==============================] - 6s 18ms/step - loss: 1.4072 - accuracy: 0.4880 - val_loss: 1.2364 - val_accuracy: 0.5568\n",
            "Epoch 3/100\n",
            "313/313 [==============================] - 6s 19ms/step - loss: 1.2536 - accuracy: 0.5487 - val_loss: 1.0776 - val_accuracy: 0.6176\n",
            "Epoch 4/100\n",
            "313/313 [==============================] - 6s 18ms/step - loss: 1.1612 - accuracy: 0.5866 - val_loss: 1.0104 - val_accuracy: 0.6418\n",
            "Epoch 5/100\n",
            "313/313 [==============================] - 6s 19ms/step - loss: 1.0941 - accuracy: 0.6111 - val_loss: 0.9349 - val_accuracy: 0.6659\n",
            "Epoch 6/100\n",
            "313/313 [==============================] - 6s 19ms/step - loss: 1.0286 - accuracy: 0.6310 - val_loss: 0.9425 - val_accuracy: 0.6641\n",
            "Epoch 7/100\n",
            "313/313 [==============================] - 6s 19ms/step - loss: 0.9902 - accuracy: 0.6508 - val_loss: 0.9083 - val_accuracy: 0.6787\n",
            "Epoch 8/100\n",
            "313/313 [==============================] - 6s 19ms/step - loss: 0.9553 - accuracy: 0.6614 - val_loss: 0.8320 - val_accuracy: 0.7096\n",
            "Epoch 9/100\n",
            "313/313 [==============================] - 6s 19ms/step - loss: 0.9287 - accuracy: 0.6707 - val_loss: 0.8363 - val_accuracy: 0.7085\n",
            "Epoch 10/100\n",
            "313/313 [==============================] - 6s 19ms/step - loss: 0.8976 - accuracy: 0.6862 - val_loss: 0.8251 - val_accuracy: 0.7113\n",
            "Epoch 11/100\n",
            "313/313 [==============================] - 6s 18ms/step - loss: 0.8658 - accuracy: 0.6928 - val_loss: 0.7763 - val_accuracy: 0.7293\n",
            "Epoch 12/100\n",
            "313/313 [==============================] - 6s 19ms/step - loss: 0.8473 - accuracy: 0.6998 - val_loss: 0.7993 - val_accuracy: 0.7198\n",
            "Epoch 13/100\n",
            "313/313 [==============================] - 6s 19ms/step - loss: 0.8240 - accuracy: 0.7085 - val_loss: 0.7739 - val_accuracy: 0.7297\n",
            "Epoch 14/100\n",
            "313/313 [==============================] - 6s 19ms/step - loss: 0.8066 - accuracy: 0.7149 - val_loss: 0.7309 - val_accuracy: 0.7459\n",
            "Epoch 15/100\n",
            "313/313 [==============================] - 6s 18ms/step - loss: 0.7848 - accuracy: 0.7180 - val_loss: 0.7347 - val_accuracy: 0.7444\n",
            "Epoch 16/100\n",
            "313/313 [==============================] - 6s 19ms/step - loss: 0.7739 - accuracy: 0.7242 - val_loss: 0.7471 - val_accuracy: 0.7411\n",
            "Epoch 17/100\n",
            "313/313 [==============================] - 6s 18ms/step - loss: 0.7661 - accuracy: 0.7283 - val_loss: 0.7427 - val_accuracy: 0.7391\n",
            "Epoch 18/100\n",
            "313/313 [==============================] - 6s 19ms/step - loss: 0.7484 - accuracy: 0.7355 - val_loss: 0.7231 - val_accuracy: 0.7474\n",
            "Epoch 19/100\n",
            "313/313 [==============================] - 6s 19ms/step - loss: 0.7304 - accuracy: 0.7413 - val_loss: 0.7273 - val_accuracy: 0.7469\n",
            "Epoch 20/100\n",
            "313/313 [==============================] - 6s 18ms/step - loss: 0.7228 - accuracy: 0.7435 - val_loss: 0.6913 - val_accuracy: 0.7583\n",
            "Epoch 21/100\n",
            "313/313 [==============================] - 6s 19ms/step - loss: 0.7102 - accuracy: 0.7465 - val_loss: 0.6785 - val_accuracy: 0.7619\n",
            "Epoch 22/100\n",
            "313/313 [==============================] - 6s 18ms/step - loss: 0.6981 - accuracy: 0.7533 - val_loss: 0.6947 - val_accuracy: 0.7578\n",
            "Epoch 23/100\n",
            "313/313 [==============================] - 6s 18ms/step - loss: 0.6937 - accuracy: 0.7551 - val_loss: 0.6923 - val_accuracy: 0.7611\n",
            "Epoch 24/100\n",
            "313/313 [==============================] - 6s 18ms/step - loss: 0.6858 - accuracy: 0.7561 - val_loss: 0.7145 - val_accuracy: 0.7555\n",
            "Epoch 25/100\n",
            "207/313 [==================>...........] - ETA: 1s - loss: 0.6753 - accuracy: 0.7640"
          ]
        }
      ]
    },
    {
      "cell_type": "code",
      "source": [
        "# 評估模型\n",
        "print(\"\\nTesting ...\")\n",
        "loss, accuracy = model.evaluate(X_train, Y_train)\n",
        "print(\"訓練資料集的準確度 = {:.2f}\".format(accuracy))\n",
        "loss, accuracy = model.evaluate(X_train, Y_train)\n",
        "print(\"測試資料集的準確度 = {:.2f}\".format(accuracy))\n"
      ],
      "metadata": {
        "id": "sR6Qe5bHngEB"
      },
      "execution_count": null,
      "outputs": []
    },
    {
      "cell_type": "code",
      "source": [
        "# # 儲存Keras模型\n",
        "# print(\"Saving Model: cifar10.h5 ...\")\n",
        "# model.save(\"cifar10.h5\")\n",
        "# # 顯示圖表來分析模型的訓練過程\n",
        "# import matplotlib.pyplot as plt\n",
        "# # 顯示訓練和驗證損失\n",
        "# loss = history.history[\"loss\"]\n",
        "# epochs = range(1, len(loss)+1)\n",
        "# val_loss = history.history[\"val_loss\"]\n",
        "# plt.plot(epochs, loss, \"bo-\", label=\"Training Loss\")\n",
        "# plt.plot(epochs, val_loss, \"ro--\", label=\"Validation Loss\")\n",
        "# plt.title(\"Training and Validation Loss\")\n",
        "# plt.xlabel(\"Epochs\")\n",
        "# plt.ylabel(\"Loss\")\n",
        "# plt.legend()\n",
        "# plt.show()\n",
        "# # 顯示訓練和驗證準確度\n",
        "# acc = history.history[\"acc\"]\n",
        "# epochs = range(1, len(acc)+1)\n",
        "# val_acc = history.history[\"val_acc\"]\n",
        "# plt.plot(epochs, acc, \"bo-\", label=\"Training Acc\")\n",
        "# plt.plot(epochs, val_acc, \"ro--\", label=\"Validation Acc\")\n",
        "# plt.title(\"Training and Validation Accuracy\")\n",
        "# plt.xlabel(\"Epochs\")\n",
        "# plt.ylabel(\"Accuracy\")\n",
        "# plt.legend()\n",
        "# plt.show()"
      ],
      "metadata": {
        "id": "AtuKFBOhnjFn"
      },
      "execution_count": null,
      "outputs": []
    }
  ]
}